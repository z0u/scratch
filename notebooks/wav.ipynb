{
 "cells": [
  {
   "attachments": {},
   "cell_type": "markdown",
   "metadata": {},
   "source": [
    "# Splitting a waveform by channel\n",
    "Wave data is loaded by the [wave module](https://docs.python.org/3/library/wave.html#module-wave) as multiplexed batches of bytes. The number of bytes per batch depends on the sample width. Can we load it with plain Numpy, or is it too complicated?\n",
    "\n",
    "Create some mock data, packed as 24-bit samples. Note the use of big-endianness `>` — this may need to be changed depending on the contents of the actual file being read."
   ]
  },
  {
   "cell_type": "code",
   "execution_count": 1,
   "metadata": {},
   "outputs": [
    {
     "name": "stdout",
     "output_type": "stream",
     "text": [
      "[250, 251, 252, 253, 254, 255, 256, 257, 258, 259]\n",
      "b'\\x00\\x00\\xfa\\x00\\x00\\xfb\\x00\\x00\\xfc\\x00\\x00\\xfd\\x00\\x00\\xfe\\x00\\x00\\xff\\x00\\x01\\x00\\x00\\x01\\x01\\x00\\x01\\x02\\x00\\x01\\x03'\n"
     ]
    }
   ],
   "source": [
    "import numpy as np\n",
    "import struct\n",
    "\n",
    "sample_width = 3\n",
    "n_samples = 5\n",
    "n_channels = 2\n",
    "\n",
    "mock_data = list(range(250, 250 + n_samples * n_channels))\n",
    "packed_data = b''.join([\n",
    "    struct.pack(f\">I\", sample)[1:]\n",
    "    for sample in mock_data])\n",
    "\n",
    "print(mock_data)\n",
    "print(packed_data)"
   ]
  },
  {
   "attachments": {},
   "cell_type": "markdown",
   "metadata": {},
   "source": [
    "Read the data into Numpy. Since there's no built-in 24-bit integer type, read it in as raw bytes for now."
   ]
  },
  {
   "cell_type": "code",
   "execution_count": 2,
   "metadata": {},
   "outputs": [
    {
     "data": {
      "text/plain": [
       "array([  0,   0, 250,   0,   0, 251,   0,   0, 252,   0,   0, 253,   0,\n",
       "         0, 254,   0,   0, 255,   0,   1,   0,   0,   1,   1,   0,   1,\n",
       "         2,   0,   1,   3], dtype=uint8)"
      ]
     },
     "execution_count": 2,
     "metadata": {},
     "output_type": "execute_result"
    }
   ],
   "source": [
    "data = np.frombuffer(packed_data, dtype=np.uint8)\n",
    "data"
   ]
  },
  {
   "attachments": {},
   "cell_type": "markdown",
   "metadata": {},
   "source": [
    "[Reshape](https://numpy.org/doc/stable/reference/generated/numpy.reshape.html#numpy.reshape) it into a 2D array of samples. Add an extra column to pad to 32-bit (to the start due to big-endianness)."
   ]
  },
  {
   "cell_type": "code",
   "execution_count": 3,
   "metadata": {},
   "outputs": [
    {
     "name": "stdout",
     "output_type": "stream",
     "text": [
      "[[  0   0 250]\n",
      " [  0   0 251]\n",
      " [  0   0 252]\n",
      " [  0   0 253]\n",
      " [  0   0 254]\n",
      " [  0   0 255]\n",
      " [  0   1   0]\n",
      " [  0   1   1]\n",
      " [  0   1   2]\n",
      " [  0   1   3]]\n",
      "[[  0   0   0 250]\n",
      " [  0   0   0 251]\n",
      " [  0   0   0 252]\n",
      " [  0   0   0 253]\n",
      " [  0   0   0 254]\n",
      " [  0   0   0 255]\n",
      " [  0   0   1   0]\n",
      " [  0   0   1   1]\n",
      " [  0   0   1   2]\n",
      " [  0   0   1   3]]\n"
     ]
    }
   ],
   "source": [
    "samples = data.reshape((n_samples * n_channels, sample_width))\n",
    "padded_samples = np.hstack((np.zeros((n_samples * n_channels, 1), dtype=np.uint8), samples))\n",
    "print(samples)\n",
    "print(padded_samples)"
   ]
  },
  {
   "attachments": {},
   "cell_type": "markdown",
   "metadata": {},
   "source": [
    "Reinterpret rows of bytes as integers. Take every second element to extract a channel."
   ]
  },
  {
   "cell_type": "code",
   "execution_count": 4,
   "metadata": {},
   "outputs": [
    {
     "name": "stdout",
     "output_type": "stream",
     "text": [
      "[250 252 254 256 258]\n"
     ]
    }
   ],
   "source": [
    "int_samples = padded_samples.view('>u4').flatten()\n",
    "samples_l = int_samples[::2]\n",
    "print(samples_l)"
   ]
  },
  {
   "cell_type": "code",
   "execution_count": 5,
   "metadata": {},
   "outputs": [],
   "source": [
    "assert np.all(samples_l == mock_data[0::2])"
   ]
  },
  {
   "attachments": {},
   "cell_type": "markdown",
   "metadata": {},
   "source": [
    "## Conclusion\n",
    "The data was successfully deserialised, but it's complicated and we haven't even accounted for endianness. Better to use [scipy.io.wavfile.read](https://docs.scipy.org/doc/scipy/reference/generated/scipy.io.wavfile.read.html), which takes care of all that."
   ]
  }
 ],
 "metadata": {
  "kernelspec": {
   "display_name": "Python 3",
   "language": "python",
   "name": "python3"
  },
  "language_info": {
   "codemirror_mode": {
    "name": "ipython",
    "version": 3
   },
   "file_extension": ".py",
   "mimetype": "text/x-python",
   "name": "python",
   "nbconvert_exporter": "python",
   "pygments_lexer": "ipython3",
   "version": "3.10.4"
  },
  "orig_nbformat": 4
 },
 "nbformat": 4,
 "nbformat_minor": 2
}
